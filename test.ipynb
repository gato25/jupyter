{
  "cells": [
    {
      "cell_type": "markdown",
      "metadata": {},
      "source": [
        "## Hello world",
        "",
        "Start your lesson content here. Use markdown for text and explanations, and add Python cells for code examples and exercises.",
        "",
        "\\",
        "$$\\int_0^{\\infty}\\!xn\\,\\mathrm{d}x$$",
        "",
        "\\",
        "$$\\begin{pmatrix}1 & 2\\\\ 3 & 4\\end{pmatrix}$$"
      ]
    },
    {
      "cell_type": "code",
      "execution_count": null,
      "metadata": {},
      "outputs": [
        {
          "name": "stdout",
          "output_type": "stream",
          "text": [
            "1024"
          ]
        }
      ],
      "source": [
        "print(2 ** 10)"
      ]
    }
  ],
  "metadata": {
    "kernelspec": {
      "display_name": "Python 3",
      "language": "python",
      "name": "python3"
    },
    "language_info": {
      "name": "python",
      "version": "3.8.5"
    }
  },
  "nbformat": 4,
  "nbformat_minor": 5
}
