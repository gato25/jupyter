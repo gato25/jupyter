{
  "nbformat": 4,
  "nbformat_minor": 5,
  "metadata": {
    "kernelspec": {
      "display_name": "Python 3",
      "language": "python",
      "name": "python3"
    },
    "language_info": {
      "codemirror_mode": {
        "name": "ipython",
        "version": 3
      },
      "file_extension": ".py",
      "mimetype": "text/x-python",
      "name": "python",
      "nbconvert_exporter": "python",
      "pygments_lexer": "ipython3",
      "version": "3.8.5"
    }
  },
  "cells": [
    {
      "cell_type": "markdown",
      "metadata": {},
      "source": [
        "# Welcome to the Python, SQL & Markdown Playground!\n",
        "\n",
        "This interactive playground allows you to write and execute Python code, SQL queries, and create rich content with Markdown.\n",
        "\n",
        "## Getting Started\n",
        "\n",
        "1. Use the \"+\" button to add new cells\n",
        "2. Choose between Python, SQL, or Markdown\n",
        "3. Write your code or content\n",
        "4. Click the \"Play\" button to execute code cells\n",
        "\n",
        "## Examples\n",
        "\n",
        "### Python\n",
        "```python\n",
        "import math\n",
        "\n",
        "def calculate_circle_area(radius):\n",
        "    return math.pi * radius ** 2\n",
        "\n",
        "print(f\"The area of a circle with radius 5 is: {calculate_circle_area(5):.2f}\")\n",
        "```\n",
        "\n",
        "### SQL\n",
        "```sql\n",
        "CREATE TABLE users (id INTEGER PRIMARY KEY, name TEXT, age INTEGER);\n",
        "INSERT INTO users (name, age) VALUES ('Alice', 30), ('Bob', 25), ('Charlie', 35);\n",
        "SELECT * FROM users WHERE age > 28;\n",
        "```\n",
        "\n",
        "### Markdown\n",
        "You can write rich text content, including:\n",
        "\n",
        "- **Bold** and *italic* text\n",
        "- [Links](https://example.com)\n",
        "- Lists (like this one)\n",
        "- And much more!\n",
        "\n",
        "Enjoy exploring and creating in this versatile playground!\n"
      ],
      "outputs": []
    },
    {
      "cell_type": "code",
      "execution_count": 1,
      "metadata": {},
      "outputs": [],
      "source": [
        "print(\"Hello, World!\")\n"
      ]
    }
  ]
}
