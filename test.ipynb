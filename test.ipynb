{
 "cells": [
  {
   "cell_type": "markdown",
   "metadata": {},
   "source": [
    "# 🐍 $$ x^2 $$ Python Strings-ийн Гайхалтай Ертөнцөд Тавтай Морил! 🎉\n",
    "\n",
    "### Сайн уу, залуу кодчин оо! 👋\n",
    "\n",
    "Өнөөдөр бид Python-ы хамгийн сонирхолтой зүйлсийн нэг болох **strings**-ийн тухай суралцах гэж байна. Бэлэн үү? Эхэлцгээе! 🚀"
   ]
  },
  {
   "cell_type": "markdown",
   "metadata": {},
   "source": [
    "## $$ f(x) = \frac{1}{\sigma\sqrt{2\pi}} e^{-\frac{1}{2}\left(\frac{x-\mu}{\sigma}\right)^2} $$",
    "\n",
    "String гэдэг нь үсгэн мэдээллийн багц юм. Энэ нь:\n",
    "- 📝 Үг\n",
    "- 📚 Өгүүлбэр\n",
    "- 📖 Эсвэл бүр бүхэл түүх ч байж болно!\n",
    "\n",
    "Жишээ нь:"
   ]
  },
  {
   "cell_type": "code",
   "execution_count": null,
   "metadata": {},
   "outputs": [],
   "source": [
    "print(\"Сайн уу, ертөнц өө!\")  # Энэ бол string юм\n",
    "print(\"Би Python-оор код бичиж байна! 🐍\")"
   ]
  },
  {
   "cell_type": "markdown",
   "metadata": {},
   "source": [
    "## 2. 🎨 Strings-ийг Хэрхэн Үүсгэх вэ?\n",
    "\n",
    "Strings-ийг үүсгэхэд бид хоёр төрлийн **шидэт таягууд** ашигладаг:\n",
    "- 🪄 Хос дусал (\" \")\n",
    "- ✨ Ганц дусал (' ')\n",
    "\n",
    "Аль нэгийг нь сонгоод, түүнийгээ л ашиглаарай!"
   ]
  },
  {
   "cell_type": "code",
   "execution_count": null,
   "metadata": {},
   "outputs": [],
   "source": [
    "minii_nohoi = \"Банхар 🐕\"\n",
    "minii_muur = 'Цагаан 🐈'\n",
    "\n",
    "print(\"Миний нохойн нэр:\", minii_nohoi)\n",
    "print(\"Миний муурын нэр:\", minii_muur)"
   ]
  },
  {
   "cell_type": "markdown",
   "metadata": {},
   "source": [
    "## 3. 🧩 Strings-ийг Нэгтгэх\n",
    "\n",
    "Та хоёр буюу түүнээс олон strings-ийг нэгтгэж том string болгож болно! Энэ нь Lego-гоор тоглож байгаа юм шиг л юм! 🧱"
   ]
  },
  {
   "cell_type": "code",
   "execution_count": null,
   "metadata": {},
   "outputs": [],
   "source": [
    "ner = \"Болд\"\n",
    "nas = \"7\"\n",
    "taniltsuulga = ner + \" нь \" + nas + \" настай хөгжилтэй хүү! 😄\"\n",
    "\n",
    "print(taniltsuulga)"
   ]
  },
  {
   "cell_type": "markdown",
   "metadata": {},
   "source": [
    "## 4. 📏 Strings-ийн Урт\n",
    "\n",
    "Та string-ийн уртыг хэмжиж болно! Үүнийг **len()** гэдэг шидэт функцээр хийдэг. Энэ нь string дэх бүх зүйлийг (үсэг, тоо, хоосон зай, тэмдэгт) тоолдог юм."
   ]
  },
  {
   "cell_type": "code",
   "execution_count": null,
   "metadata": {},
   "outputs": [],
   "source": [
    "urt_ug = \"Цахилгаан⚡\"\n",
    "print(f'\"{urt_ug}\" гэдэг үг нь {len(urt_ug)} тэмдэгттэй!')"
   ]
  },
  {
   "cell_type": "markdown",
   "metadata": {},
   "source": [
    "## 5. 🔢 String-ийн Индекс\n",
    "\n",
    "String дэх үсэг бүр өөрийн **дугаар** буюу байрлалтай байдаг. Үүнийг **индекс** гэж нэрлэдэг. \n",
    "\n",
    "⚠️ Анхаар: Python-д индекс 0-ээс эхэлдэг! Энэ нь бидний тоолдог шиг биш, гэхдээ удахгүй та дасчихна."
   ]
  },
  {
   "cell_type": "code",
   "execution_count": null,
   "metadata": {},
   "outputs": [],
   "source": [
    "amitan = \"Үнэг🦊\"\n",
    "print(f'Эхний үсэг: {amitan[0]}')\n",
    "print(f'Гуравдахь үсэг: {amitan[2]}')\n",
    "print(f'Сүүлийн тэмдэгт: {amitan[-1]}')"
   ]
  },
  {
   "cell_type": "markdown",
   "metadata": {},
   "source": [
    "## 6. ✂️ String Slice\n",
    "\n",
    "Та string-ийн зөвхөн нэг хэсгийг авч болно. Энэ нь торт зүсэж байгаа юм шиг! 🍰"
   ]
  },
  {
   "cell_type": "code",
   "execution_count": null,
   "metadata": {},
   "outputs": [],
   "source": [
    "ner = \"Сувд-Эрдэнэ💎\"\n",
    "print(f'Эхний 4 үсэг: {ner[0:4]}')\n",
    "print(f'5 дахь үсгээс эхлээд төгсгөл хүртэл: {ner[5:]}')\n",
    "print(f'Сүүлээс нь урвуу: {ner[::-1]}')"
   ]
  },
  {
   "cell_type": "markdown",
   "metadata": {},
   "source": [
    "## 7. 🔮 String-ийн Шидэт Аргууд\n",
    "\n",
    "Strings нь олон гайхалтай шидэт аргуудтай! Тэдгээрийг ашиглан бид string-үүдтэй янз бүрийн зүйл хийж болно."
   ]
  },
  {
   "cell_type": "code",
   "execution_count": null,
   "metadata": {},
   "outputs": [],
   "source": [
    "duu = \"бИ чАмД хАйРтАй 💖\"\n",
    "print(f'Бүгдийг том болгох: {duu.upper()}')\n",
    "print(f'Бүгдийг жижиг болгох: {duu.lower()}')\n",
    "print(f'Үг бүрийн эхний үсгийг том болгох: {duu.title()}')"
   ]
  },
  {
   "cell_type": "markdown",
   "metadata": {},
   "source": [
    "## 8. 🎮 Хөгжилтэй Дасгал\n",
    "\n",
    "Одоо бид сурсан зүйлээ ашиглан жаахан тоглоё! 🕹️"
   ]
  },
  {
   "cell_type": "code",
   "execution_count": null,
   "metadata": {},
   "outputs": [],
   "source": [
    "tani_ner = input(\"Таны нэр хэн бэ? 😊 \")\n",
    "\n",
    "hojiltei_messeж = f\"{tani_ner.upper()} БОЛ ДЭЛХИЙН ХАМГИЙН САЙХАН {tani_ner.lower()}! 🌟\"\n",
    "print(hojiltei_messeж)\n",
    "\n",
    "print(f\"Таны нэрийг урвуулбал: {tani_ner[::-1]} 🙃\")\n",
    "\n",
    "print(f\"Таны нэр {len(tani_ner)} үсэгтэй! 📏\")\n",
    "\n",
    "if len(tani_ner) > 5:\n",
    "    print(f\"Ого! {tani_ner[:5]}... гэж эхэлдэг урт нэр байна! 😮\")\n",
    "else:\n",
    "    print(f\"{tani_ner} гэдэг сайхан богино нэр байна! 😊\")"
   ]
  },
  {
   "cell_type": "markdown",
   "metadata": {},
   "source": [
    "## 9. 🎓 Дүгнэлт\n",
    "\n",
    "### 🎉 Баяр хүргэе, залуу кодчин оо! 🎉\n",
    "\n",
    "Та одоо Python strings-ийн талаар маш их зүйл мэдэж авлаа:\n",
    "- 🧵 Strings үүсгэх\n",
    "- 🔗 Strings нэгтгэх\n",
    "- 📏 Strings-ийн урт хэмжих\n",
    "- 🔢 Индексээр тоглох\n",
    "- ✂️ Strings-ийг зүсэх\n",
    "- 🔮 Strings-ийн шидэт аргуудыг ашиглах\n",
    "\n",
    "Эдгээр мэдлэгээ ашиглан та гайхалтай програмууд бичиж чадна!\n",
    "\n",
    "### 💡 Дараагийн алхам:\n",
    "- 🏋️ Илүү их дасгал хий\n",
    "- 🎨 Өөрийн санаагаар програм бич\n",
    "- 🧩 Найзуудтайгаа хамт код бич\n",
    "\n",
    "Үргэлжлүүлэн суралц, хөгжилтэй байгаарай! 🚀"
   ]
  },
  {
   "cell_type": "code",
   "execution_count": null,
   "metadata": {},
   "outputs": [],
   "source": [
    "print(\"Баяртай! Дараа дахин уулзацгаая! 👋😊\")"
   ]
  }
 ],
 "metadata": {
  "kernelspec": {
   "display_name": "Python 3",
   "language": "python",
   "name": "python3"
  },
  "language_info": {
   "codemirror_mode": {
    "name": "ipython",
    "version": 3
   },
   "file_extension": ".py",
   "mimetype": "text/x-python",
   "name": "python",
   "nbconvert_exporter": "python",
   "pygments_lexer": "ipython3",
   "version": "3.8.5"
  }
 },
 "nbformat": 4,
 "nbformat_minor": 4
}
