{
  "nbformat": 4,
  "nbformat_minor": 4,
  "metadata": {
    "kernelspec": {
      "display_name": "Python 3",
      "language": "python",
      "name": "python3"
    },
    "language_info": {
      "codemirror_mode": {
        "name": "ipython",
        "version": 3
      },
      "file_extension": ".py",
      "mimetype": "text/x-python",
      "name": "python",
      "nbconvert_exporter": "python",
      "pygments_lexer": "ipython3",
      "version": "3.8.5"
    }
  },
  "cells": [
    {
      "cell_type": "markdown",
      "metadata": {
        "type": "markdown"
      },
      "source": [
        "# Welcome to the Python, SQL & Markdown Playground!",
        "",
        "This interactive playground allows you to write and execute Python code, SQL queries, and create rich content with Markdown.",
        "",
        "## Getting Started",
        "",
        "1. Use the \"+\" button to add new cells",
        "2. Choose between Python, SQL, or Markdown",
        "3. Write your code or content",
        "4. Click the \"Play\" button to execute code cells",
        "",
        "## Examples",
        "",
        "### Python",
        "```python",
        "import math",
        "",
        "def calculate_circle_area(radius):",
        "    return math.pi * radius ** 2",
        "",
        "print(f\"The area of a circle with radius 5 is: {calculate_circle_area(5):.2f}\")",
        "```",
        "",
        "### SQL",
        "```sql",
        "CREATE TABLE users (id INTEGER PRIMARY KEY, name TEXT, age INTEGER);",
        "INSERT INTO users (name, age) VALUES ('Alice', 30), ('Bob', 25), ('Charlie', 35);",
        "SELECT * FROM users WHERE age > 28;",
        "```",
        "",
        "### Markdown",
        "You can write rich text content, including:",
        "",
        "- **Bold** and *italic* text",
        "- [Links](https://example.com)",
        "- Lists (like this one)",
        "- And much more!",
        "",
        "Enjoy exploring and creating in this versatile playground!"
      ],
      "outputs": []
    }
  ]
}
