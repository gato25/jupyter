{
 "cells": [
  {
   "cell_type": "markdown",
   "metadata": {},
   "source": [
    "# Welcome to the Python, SQL & LaTeX Playground!\n",
    "\n",
    "This interactive playground allows you to write and execute Python code, SQL queries, and create rich content with Markdown and LaTeX equations."
   ]
  },
  {
   "cell_type": "markdown",
   "metadata": {},
   "source": [
    "## Getting Started\n",
    "\n",
    "1. Use the \"+\" button to add new cells\n",
    "2. Choose between Python, SQL, or Markdown\n",
    "3. Write your code or content\n",
    "4. For Markdown cells, use the keyboard icon to access the LaTeX input\n",
    "5. Click the \"Play\" button to execute code cells"
   ]
  },
  {
   "cell_type": "markdown",
   "metadata": {},
   "source": [
    "## Examples\n",
    "\n",
    "### Python"
   ]
  },
  {
   "cell_type": "code",
   "execution_count": null,
   "metadata": {},
   "outputs": [],
   "source": [
    "import math\n",
    "\n",
    "def calculate_circle_area(radius):\n",
    "    return math.pi * radius ** 2\n",
    "\n",
    "print(f\"The area of a circle with radius 5 is: {calculate_circle_area(5):.2f}\")"
   ]
  },
  {
   "cell_type": "markdown",
   "metadata": {},
   "source": [
    "### SQL"
   ]
  },
  {
   "cell_type": "code",
   "execution_count": null,
   "metadata": {},
   "outputs": [],
   "source": [
    "%%sql\n",
    "CREATE TABLE users (id INTEGER PRIMARY KEY, name TEXT, age INTEGER);\n",
    "INSERT INTO users (name, age) VALUES ('Alice', 30), ('Bob', 25), ('Charlie', 35);\n",
    "SELECT * FROM users WHERE age > 28;"
   ]
  },
  {
   "cell_type": "markdown",
   "metadata": {},
   "source": [
    "### LaTeX\n",
    "You can write beautiful equations like this:\n",
    "\n",
    "$E = mc^2$\n",
    "\n",
    "Or more complex ones:\n",
    "\n",
    "$$\n",
    "\\frac{\\partial^2 u}{\\partial t^2} = c^2 \\nabla^2 u\n",
    "$$\n",
    "\n",
    "Enjoy exploring and creating in this versatile playground!\n",
    "\n",
    "$$ \\int_0^{\\infty}\\!x^{\\pi}\\,\\mathrm{d}x $$"
   ]
  }
 ],
 "metadata": {
  "kernelspec": {
   "display_name": "Python 3",
   "language": "python",
   "name": "python3"
  },
  "language_info": {
   "codemirror_mode": {
    "name": "ipython",
    "version": 3
   },
   "file_extension": ".py",
   "mimetype": "text/x-python",
   "name": "python",
   "nbconvert_exporter": "python",
   "pygments_lexer": "ipython3",
   "version": "3.8"
  }
 },
 "nbformat": 4,
 "nbformat_minor": 4
}
