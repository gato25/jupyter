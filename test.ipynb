{
  "cells": [
    {
      "cell_type": "markdown",
      "metadata": {},
      "source": [
        "# Welcome to the Interactive \n",
        "  \n",
        "  This notebook allows you to write and execute Python code, SQL queries, and create rich content with Markdown.\n",
        "  \n",
        "  ## Getting Started\n",
        "  \n",
        "  1. Use the \"+\" button below to add new cells.\n",
        "  2. Choose between Python, SQL, or Markdown.\n",
        "  3. Write your code or content.\n",
        "  4. Click the \"Run\" button to execute code cells.\n",
        "  \n",
        "  Enjoy exploring and creating in this versatile playground!\n"
      ]
    },
    {
      "cell_type": "code",
      "metadata": {},
      "source": [
        "print('hello')\n"
      ],
      "outputs": [
        {
          "name": "stdout",
          "output_type": "stream",
          "text": [
            "hello\n"
          ]
        }
      ],
      "execution_count": 1
    }
  ],
  "metadata": {},
  "nbformat": 4,
  "nbformat_minor": 5
}
