{
  "cells": [
    {
      "cell_type": "markdown",
      "metadata": {},
      "source": [
        "# LaTeX Examples in Jupyter Notebook\n",
        "\n",
        "This notebook demonstrates various ways to use LaTeX in Jupyter.\n",
        "\n",
        "## 1. Inline LaTeX\n",
        "\n",
        "Here's an example of inline LaTeX: The area of a circle is given by $A = \\pi r^2$.\n",
        "\n",
        "## 2. Display LaTeX\n",
        "\n",
        "Here's a displayed equation:\n",
        "\n",
        "$$E = mc^2$$\n",
        "\n",
        "## 3. Complex Equation\n",
        "\n",
        "Maxwell's Equations:\n",
        "\n",
        "$$\n",
        "\\begin{align}\n",
        "\\nabla \\times \\vec{\\mathbf{B}} -\\, \\frac1c\\, \\frac{\\partial\\vec{\\mathbf{E}}}{\\partial t} & = \\frac{4\\pi}{c}\\vec{\\mathbf{j}} \\\\\n",
        "\\nabla \\cdot \\vec{\\mathbf{E}} & = 4 \\pi \\rho \\\\\n",
        "\\nabla \\times \\vec{\\mathbf{E}}\\, +\\, \\frac1c\\, \\frac{\\partial\\vec{\\mathbf{B}}}{\\partial t} & = \\vec{\\mathbf{0}} \\\\\n",
        "\\nabla \\cdot \\vec{\\mathbf{B}} & = 0\n",
        "\\end{align}\n",
        "$$",
        "\n",
        "$$ \begin{pmatrix}1 & x^2 & 3\\ 4 & \pi & \mathrm{i}\\ \mathrm{e} & \ln & \infty\end{pmatrix} $$"
      ]
    },
    {
      "cell_type": "code",
      "execution_count": null,
      "metadata": {},
      "outputs": [],
      "source": [
        "from IPython.display import display, Math, Latex\n",
        "\n",
        "# Display a LaTeX equation\n",
        "display(Math(r'\\int_{-\\infty}^\\infty e^{-x^2} dx = \\sqrt{\\pi}'))\n",
        "\n",
        "# Display LaTeX text\n",
        "display(Latex(r\"This is a LaTeX string: $\\alpha + \\beta = \\gamma$\"))"
      ]
    },
    {
      "cell_type": "markdown",
      "metadata": {},
      "source": [
        "## 4. LaTeX with Formatting\n",
        "\n",
        "You can combine LaTeX with other Markdown formatting:\n",
        "\n",
        "- **Bold text with LaTeX**: The quadratic formula is $\\mathbf{x = \\frac{-b \\pm \\sqrt{b^2 - 4ac}}{2a}}$\n",
        "- *Italic text with LaTeX*: The exponential function is defined as $\\mathit{f(x) = e^x}$\n",
        "\n",
        "## 5. LaTeX in Tables\n",
        "\n",
        "| Symbol | LaTeX Code | Rendered |\n",
        "|--------|------------|----------|\n",
        "| Alpha  | `\\alpha`   | $\\alpha$ |\n",
        "| Beta   | `\\beta`    | $\\beta$  |\n",
        "| Gamma  | `\\gamma`   | $\\gamma$ |"
      ]
    }
  ],
  "metadata": {
    "kernelspec": {
      "display_name": "Python 3",
      "language": "python",
      "name": "python3"
    },
    "language_info": {
      "codemirror_mode": {
        "name": "ipython",
        "version": 3
      },
      "file_extension": ".py",
      "mimetype": "text/x-python",
      "name": "python",
      "nbconvert_exporter": "python",
      "pygments_lexer": "ipython3",
      "version": "3.8.5"
    }
  },
  "nbformat": 4,
  "nbformat_minor": 4
}
